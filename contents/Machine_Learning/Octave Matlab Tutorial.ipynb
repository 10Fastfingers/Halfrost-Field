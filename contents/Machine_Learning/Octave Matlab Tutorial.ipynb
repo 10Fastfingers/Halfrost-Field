{
 "cells": [
  {
   "cell_type": "markdown",
   "metadata": {},
   "source": [
    "## 一. Basic Operations 基本操作\n",
    "\n",
    "在 matlab 中，%是注释符号。基础的数学运算有以下这些：\n",
    "\n",
    "```\n",
    "1 + 2   %加\n",
    "5 - 6   %减\n",
    "7 * 4   %乘\n",
    "9 / 3   %除\n",
    "6 ^ 4   %幂指数\n",
    "log(20) %对数运算\n",
    "exp(30) %指数运算\n",
    "abs(-2) %绝对值运算\n",
    "\n",
    "```\n",
    "\n",
    "\n",
    "\n",
    "逻辑运算：\n",
    "\n",
    "\n",
    "\n",
    "\n",
    "```\n",
    "\n",
    "1 == 2             %判断是否相等\n",
    "ans = 0            %false\n",
    "1 ~= 2             % ~= 是 ！= 的意思，判断是否不相等\n",
    "ans = 1            %True \n",
    "\n",
    "1 && 0             %逻辑 AND （和运算）\n",
    "ans = 0\n",
    "1 || 0             %逻辑 OR（或运算）\n",
    "ans = 1            \n",
    "xor(1,0)           %异或运算\n",
    "ans = 1 \n",
    "\n",
    "```"
   ]
  },
  {
   "cell_type": "markdown",
   "metadata": {},
   "source": [
    "## 二. Moving Data Around"
   ]
  },
  {
   "cell_type": "markdown",
   "metadata": {},
   "source": [
    "## 三. Computing on Data"
   ]
  },
  {
   "cell_type": "markdown",
   "metadata": {},
   "source": [
    "## 四. Plotting Data"
   ]
  },
  {
   "cell_type": "markdown",
   "metadata": {},
   "source": [
    "## 五. Control Statements: for, while, if statement"
   ]
  },
  {
   "cell_type": "markdown",
   "metadata": {},
   "source": [
    "## 六. Vectorization"
   ]
  }
 ],
 "metadata": {
  "kernelspec": {
   "display_name": "Python 3",
   "language": "python",
   "name": "python3"
  },
  "language_info": {
   "codemirror_mode": {
    "name": "ipython",
    "version": 3
   },
   "file_extension": ".py",
   "mimetype": "text/x-python",
   "name": "python",
   "nbconvert_exporter": "python",
   "pygments_lexer": "ipython3",
   "version": "3.6.4"
  }
 },
 "nbformat": 4,
 "nbformat_minor": 2
}
